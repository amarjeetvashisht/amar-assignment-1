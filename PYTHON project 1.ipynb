{
 "cells": [
  {
   "cell_type": "markdown",
   "id": "95651369",
   "metadata": {},
   "source": [
    "#  A python program to find the factorial of a number"
   ]
  },
  {
   "cell_type": "code",
   "execution_count": 27,
   "id": "331a77f5",
   "metadata": {},
   "outputs": [
    {
     "name": "stdout",
     "output_type": "stream",
     "text": [
      "ENTER A NUMBER:6\n",
      "the factrial of 6 is 720\n"
     ]
    }
   ],
   "source": [
    "fact=1\n",
    "num=int (input(\"ENTER A NUMBER:\"))\n",
    "n=num\n",
    "while num>0:\n",
    "    fact=fact*num\n",
    "    num=num-1\n",
    "print(\"the factrial of\",n,\"is\",fact)"
   ]
  },
  {
   "cell_type": "markdown",
   "id": "fd4a5679",
   "metadata": {},
   "source": [
    "# A python program to find whether a number is prime or composite"
   ]
  },
  {
   "cell_type": "code",
   "execution_count": 5,
   "id": "391d8472",
   "metadata": {},
   "outputs": [
    {
     "name": "stdout",
     "output_type": "stream",
     "text": [
      "ENTER A NUMBER:34\n",
      "34 is composite number\n"
     ]
    }
   ],
   "source": [
    "num= int(input(\"ENTER A NUMBER:\"))\n",
    "if num==0 or num==1:\n",
    "    \n",
    "    print(num, \"is neither prime nor composite\" )\n",
    "    \n",
    "else:\n",
    "    for i in range(2,num):\n",
    "            if (num%i==0):\n",
    "                print(num,\"is composite number\")\n",
    "                break\n",
    "    else:\n",
    "                    print(num,\"is prime number\")"
   ]
  },
  {
   "cell_type": "markdown",
   "id": "c3f4066f",
   "metadata": {},
   "source": [
    "# A python program to check whether a given string is palindrome or not"
   ]
  },
  {
   "cell_type": "code",
   "execution_count": 11,
   "id": "0334ea11",
   "metadata": {},
   "outputs": [
    {
     "name": "stdout",
     "output_type": "stream",
     "text": [
      "ENTER A NUMBER:amar\n",
      "given string is not palindrome\n"
     ]
    }
   ],
   "source": [
    "string=(input(\"ENTER A NUMBER:\"))\n",
    "reverse_string=string[::-1]\n",
    "\n",
    "if(string==reverse_string):\n",
    "    print(\" given string is palindrome\")\n",
    "else:\n",
    "    print(\"given string is not palindrome\")\n"
   ]
  },
  {
   "cell_type": "markdown",
   "id": "9704c758",
   "metadata": {},
   "source": [
    "# A Python program to get the third side of right-angled triangle from two given sides."
   ]
  },
  {
   "cell_type": "code",
   "execution_count": 16,
   "id": "dbb3d24a",
   "metadata": {},
   "outputs": [
    {
     "name": "stdout",
     "output_type": "stream",
     "text": [
      "enter one shorter side of right angle triangle:3\n",
      "enter second shorter side of right angle triangle:4\n",
      "the hypotenuse of right angle triangle is: 5.0\n"
     ]
    }
   ],
   "source": [
    "import math\n",
    "a= float(input(\"enter one shorter side of right angle triangle:\"))\n",
    "b= float(input(\"enter second shorter side of right angle triangle:\"))\n",
    "c= math.sqrt(a ** 2 + b ** 2)\n",
    "print(\"the hypotenuse of right angle triangle is:\" ,c)"
   ]
  },
  {
   "cell_type": "code",
   "execution_count": 17,
   "id": "3042a7db",
   "metadata": {},
   "outputs": [
    {
     "name": "stdout",
     "output_type": "stream",
     "text": [
      "enter one shorter side of right angle triangle:4\n",
      "enter hupotenuse side of right angle triangle:5\n",
      "the second shorter side of right angle triangle is: 3.0\n"
     ]
    }
   ],
   "source": [
    "import math\n",
    "a= float(input(\"enter one shorter side of right angle triangle:\"))\n",
    "b= float(input(\"enter hupotenuse side of right angle triangle:\"))\n",
    "c= math.sqrt(b ** 2 - a ** 2)\n",
    "print(\"the second shorter side of right angle triangle is:\" ,c)"
   ]
  },
  {
   "cell_type": "markdown",
   "id": "213c2049",
   "metadata": {},
   "source": [
    "#  A python program to print the frequency of each of the characters present in a given string"
   ]
  },
  {
   "cell_type": "code",
   "execution_count": 27,
   "id": "ea0c70dc",
   "metadata": {},
   "outputs": [
    {
     "name": "stdout",
     "output_type": "stream",
     "text": [
      "enter any string:programming\n",
      "search the character: m\n",
      "frequency of the character: 1\n",
      "frequency of the character: 2\n"
     ]
    }
   ],
   "source": [
    "string=input(\"enter any string:\")\n",
    "cha=input(\"search the character: \")\n",
    "count=0\n",
    "for i in string:\n",
    "    if i==cha:\n",
    "        count+=1\n",
    "        print(\"frequency of the character:\", count)\n",
    "        "
   ]
  },
  {
   "cell_type": "code",
   "execution_count": 29,
   "id": "4c3d2a5d",
   "metadata": {},
   "outputs": [
    {
     "name": "stdout",
     "output_type": "stream",
     "text": [
      "enter any string:python\n",
      "frequency of the character: {'p': 1}\n",
      "frequency of the character: {'p': 1, 'y': 1}\n",
      "frequency of the character: {'p': 1, 'y': 1, 't': 1}\n",
      "frequency of the character: {'p': 1, 'y': 1, 't': 1, 'h': 1}\n",
      "frequency of the character: {'p': 1, 'y': 1, 't': 1, 'h': 1, 'o': 1}\n",
      "frequency of the character: {'p': 1, 'y': 1, 't': 1, 'h': 1, 'o': 1, 'n': 1}\n"
     ]
    }
   ],
   "source": [
    "string=input(\"enter any string:\")\n",
    "count={}\n",
    "for i in string:\n",
    "    if i in count.keys():\n",
    "        count[i]+=1\n",
    "    else:\n",
    "        count[i]=1\n",
    "        print(\"frequency of the character:\", count)"
   ]
  },
  {
   "cell_type": "code",
   "execution_count": null,
   "id": "6563dc0c",
   "metadata": {},
   "outputs": [],
   "source": []
  },
  {
   "cell_type": "code",
   "execution_count": null,
   "id": "d41ec59a",
   "metadata": {},
   "outputs": [],
   "source": []
  },
  {
   "cell_type": "code",
   "execution_count": null,
   "id": "122ca8e6",
   "metadata": {},
   "outputs": [],
   "source": []
  }
 ],
 "metadata": {
  "kernelspec": {
   "display_name": "Python 3 (ipykernel)",
   "language": "python",
   "name": "python3"
  },
  "language_info": {
   "codemirror_mode": {
    "name": "ipython",
    "version": 3
   },
   "file_extension": ".py",
   "mimetype": "text/x-python",
   "name": "python",
   "nbconvert_exporter": "python",
   "pygments_lexer": "ipython3",
   "version": "3.9.13"
  }
 },
 "nbformat": 4,
 "nbformat_minor": 5
}
